{
  "nbformat": 4,
  "nbformat_minor": 0,
  "metadata": {
    "colab": {
      "name": "Problem Statement.ipynb",
      "provenance": []
    },
    "kernelspec": {
      "name": "python3",
      "display_name": "Python 3"
    },
    "language_info": {
      "name": "python"
    }
  },
  "cells": [
    {
      "cell_type": "markdown",
      "metadata": {
        "id": "DGWWgmUmbJrX"
      },
      "source": [
        "## Problem Statement"
      ]
    },
    {
      "cell_type": "markdown",
      "metadata": {
        "id": "KsP6In5xbZCX"
      },
      "source": [
        "**Context**\n",
        "\n",
        "Access to safe drinking-water is essential to health, a basic human right and a component of effective policy for health protection. This is important as a health and development issue at a national, regional and local level. In some regions, it has been shown that investments in water supply and sanitation can yield a net economic benefit, since the reductions in adverse health effects and health care costs outweigh the costs of undertaking the interventions."
      ]
    },
    {
      "cell_type": "markdown",
      "metadata": {
        "id": "sW-nPkglhF30"
      },
      "source": [
        "**Business Objective**\n",
        "\n",
        "The objective of this project is to predict the quality of water so we can determine whether the water is safe to drink. This model is going to be used to save time rather than testing the water in laboratorium."
      ]
    },
    {
      "cell_type": "markdown",
      "metadata": {
        "id": "j5yksVMxiPYk"
      },
      "source": [
        "**Output**\n",
        "\n",
        "The output of this project is the predicted result from the features in the water so we can know if the water is drinkable."
      ]
    },
    {
      "cell_type": "markdown",
      "metadata": {
        "id": "FCoJcOpuigDx"
      },
      "source": [
        "**Machine Learning Task**\n",
        "\n",
        "This project will use supervised machine learning because in the dataset, the potability of the water is already given. By using the potability data, we can try to predict the unseen data by using the data that we already have."
      ]
    },
    {
      "cell_type": "markdown",
      "metadata": {
        "id": "q5IljqK1jCSL"
      },
      "source": [
        "**Performance Measure**\n",
        "\n",
        "In order to measure the performance of the classification model, we use the following metrics: precision, recall, and f1 score. i will focus more on increasing precicsion because the distribution of data is pretty balanced."
      ]
    }
  ]
}