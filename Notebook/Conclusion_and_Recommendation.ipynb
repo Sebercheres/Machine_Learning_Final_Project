{
  "nbformat": 4,
  "nbformat_minor": 0,
  "metadata": {
    "colab": {
      "name": "Conclusion and Recommendation.ipynb",
      "provenance": []
    },
    "kernelspec": {
      "name": "python3",
      "display_name": "Python 3"
    },
    "language_info": {
      "name": "python"
    }
  },
  "cells": [
    {
      "cell_type": "markdown",
      "metadata": {
        "id": "esJKFRPaAFCZ"
      },
      "source": [
        "\n",
        "In order to meet the business requirements, we used a different variety of calssfication models for potabilty of water. We tested 8 models including several gradient boosting models such as LightGBM, XGBoost, and CatBoost. From the results, we conclude that CatBoost performed the best during the evaluation with 69.5% of accuracy 64% f1 score, 72% of precision score and  69.5% score for Recall,\n",
        "\n",
        "Despite having produced a working application that met our initial requirements, there are various improvements that can be made in the future. These include improvements we did not make due to limited time on the project.\n",
        "the improvement including searching for more data and more features that affecting of the potability of water."
      ]
    }
  ]
}