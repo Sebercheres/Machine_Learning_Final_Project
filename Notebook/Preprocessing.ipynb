{
  "nbformat": 4,
  "nbformat_minor": 0,
  "metadata": {
    "colab": {
      "name": "Preprocessing.ipynb",
      "provenance": [],
      "collapsed_sections": []
    },
    "kernelspec": {
      "name": "python3",
      "display_name": "Python 3"
    },
    "language_info": {
      "name": "python"
    }
  },
  "cells": [
    {
      "cell_type": "markdown",
      "metadata": {
        "id": "awZJlr4Cp2DO"
      },
      "source": [
        "# download dataset"
      ]
    },
    {
      "cell_type": "code",
      "metadata": {
        "id": "9DAYOckMWB_S"
      },
      "source": [
        "import pandas as pd\n",
        "df = pd.read_csv('https://raw.githubusercontent.com/Sebercheres/Machine_Learning_Final_Project/main/Dataset/water-potability.csv', index_col=0)"
      ],
      "execution_count": 1,
      "outputs": []
    },
    {
      "cell_type": "markdown",
      "metadata": {
        "id": "Q_GRBjN_p51M"
      },
      "source": [
        "# define scoring dataset"
      ]
    },
    {
      "cell_type": "code",
      "metadata": {
        "id": "96r-wrtAoCp1"
      },
      "source": [
        "from sklearn.dummy import DummyClassifier\n",
        "from sklearn.metrics import precision_score\n",
        "\n",
        "def score_dataset(X_train, X_valid, y_train, y_valid):\n",
        "  dum = DummyClassifier(random_state=7)\n",
        "  dum.fit(X_train, y_train)\n",
        "  predict = dum.predict(X_valid)\n",
        "  prec = precision_score(y_valid, predict,average='macro')\n",
        "  return prec"
      ],
      "execution_count": 2,
      "outputs": []
    },
    {
      "cell_type": "markdown",
      "metadata": {
        "id": "bflM1jHsyFeO"
      },
      "source": [
        "# define splitting data"
      ]
    },
    {
      "cell_type": "code",
      "metadata": {
        "id": "lVNba7TQyE3n"
      },
      "source": [
        "from sklearn.model_selection import train_test_split\n",
        "\n",
        "def split_data(data):\n",
        "  X = data.drop('Potability', axis=1)\n",
        "  y = data['Potability']\n",
        "  X_train, X_valid, y_train, y_valid = train_test_split(X, y, train_size=0.8, stratify=y, random_state=7)\n",
        "  return X_train, X_valid, y_train, y_valid"
      ],
      "execution_count": 3,
      "outputs": []
    },
    {
      "cell_type": "markdown",
      "metadata": {
        "id": "PpxqAr3Ifmru"
      },
      "source": [
        "# check empty row\n"
      ]
    },
    {
      "cell_type": "code",
      "metadata": {
        "colab": {
          "base_uri": "https://localhost:8080/"
        },
        "id": "SLstMUJ5fqLe",
        "outputId": "a96ad1ab-19c9-409a-e65f-67eabb8676f7"
      },
      "source": [
        "df.isnull().sum()"
      ],
      "execution_count": 4,
      "outputs": [
        {
          "output_type": "execute_result",
          "data": {
            "text/plain": [
              "ph                 491\n",
              "Hardness             0\n",
              "Solids               0\n",
              "Chloramines          0\n",
              "Sulfate            781\n",
              "Conductivity         0\n",
              "Organic_carbon       0\n",
              "Trihalomethanes    162\n",
              "Turbidity            0\n",
              "Potability           0\n",
              "dtype: int64"
            ]
          },
          "metadata": {
            "tags": []
          },
          "execution_count": 4
        }
      ]
    },
    {
      "cell_type": "markdown",
      "metadata": {
        "id": "TV3wdTy_f9cr"
      },
      "source": [
        "we will try two dataset which one is imputing the empty dataset and the other is to drop the missing row and we compare which is better"
      ]
    },
    {
      "cell_type": "markdown",
      "metadata": {
        "id": "ktkIDmqNrXN9"
      },
      "source": [
        "because of the sensitivity of water i like dropping the row method morethan imputing because it will result on bad predictions"
      ]
    },
    {
      "cell_type": "code",
      "metadata": {
        "id": "CgYMqSJnrJl5"
      },
      "source": [
        "df_drop = df.dropna()"
      ],
      "execution_count": 5,
      "outputs": []
    },
    {
      "cell_type": "code",
      "metadata": {
        "colab": {
          "base_uri": "https://localhost:8080/"
        },
        "id": "iwVuxNFUruaU",
        "outputId": "35f48e5e-4d4d-4b37-9c76-20db8d714a2b"
      },
      "source": [
        "df.shape"
      ],
      "execution_count": 6,
      "outputs": [
        {
          "output_type": "execute_result",
          "data": {
            "text/plain": [
              "(3276, 10)"
            ]
          },
          "metadata": {
            "tags": []
          },
          "execution_count": 6
        }
      ]
    },
    {
      "cell_type": "code",
      "metadata": {
        "colab": {
          "base_uri": "https://localhost:8080/"
        },
        "id": "gCV9tcOqrn_J",
        "outputId": "97007207-9088-4558-e030-2eb38ed1e0f6"
      },
      "source": [
        "df_drop.shape"
      ],
      "execution_count": 7,
      "outputs": [
        {
          "output_type": "execute_result",
          "data": {
            "text/plain": [
              "(2011, 10)"
            ]
          },
          "metadata": {
            "tags": []
          },
          "execution_count": 7
        }
      ]
    },
    {
      "cell_type": "code",
      "metadata": {
        "colab": {
          "base_uri": "https://localhost:8080/"
        },
        "id": "x-OkPwMhyBfN",
        "outputId": "bfc36e60-e806-4abd-dcbb-d9328ae31659"
      },
      "source": [
        "X_train, X_valid, y_train, y_valid = split_data(df_drop)\n",
        "score_dataset(X_train, X_valid, y_train, y_valid)\n",
        "\n",
        "print('dropped precision score: ', end=\"\")\n",
        "print(score_dataset(X_train, X_valid, y_train, y_valid))"
      ],
      "execution_count": 8,
      "outputs": [
        {
          "output_type": "stream",
          "text": [
            "dropped precision score: 0.4890406036651096\n"
          ],
          "name": "stdout"
        },
        {
          "output_type": "stream",
          "text": [
            "/usr/local/lib/python3.7/dist-packages/sklearn/dummy.py:132: FutureWarning: The default value of strategy will change from stratified to prior in 0.24.\n",
            "  \"stratified to prior in 0.24.\", FutureWarning)\n"
          ],
          "name": "stderr"
        }
      ]
    },
    {
      "cell_type": "markdown",
      "metadata": {
        "id": "6brmUGIbrx7q"
      },
      "source": [
        "we loss about 1000 data"
      ]
    },
    {
      "cell_type": "markdown",
      "metadata": {
        "id": "9uOs8yBgsfRu"
      },
      "source": [
        "the second one is we are going to try imputing the missing data with simple imputer."
      ]
    },
    {
      "cell_type": "code",
      "metadata": {
        "id": "hxoXt6NdtJSR"
      },
      "source": [
        "df_impute = df.copy()"
      ],
      "execution_count": 9,
      "outputs": []
    },
    {
      "cell_type": "markdown",
      "metadata": {
        "id": "mLE1juNqypWP"
      },
      "source": [
        "split the data"
      ]
    },
    {
      "cell_type": "code",
      "metadata": {
        "id": "AugNwm1byoyv"
      },
      "source": [
        "X_train, X_valid, y_train, y_valid = split_data(df_impute)"
      ],
      "execution_count": 10,
      "outputs": []
    },
    {
      "cell_type": "code",
      "metadata": {
        "colab": {
          "base_uri": "https://localhost:8080/"
        },
        "id": "F8nR0qSA1Ql7",
        "outputId": "ffd611cb-9dec-4a22-a0d3-657f055c7ee9"
      },
      "source": [
        "X_train.isnull().sum()"
      ],
      "execution_count": 11,
      "outputs": [
        {
          "output_type": "execute_result",
          "data": {
            "text/plain": [
              "ph                 400\n",
              "Hardness             0\n",
              "Solids               0\n",
              "Chloramines          0\n",
              "Sulfate            622\n",
              "Conductivity         0\n",
              "Organic_carbon       0\n",
              "Trihalomethanes    137\n",
              "Turbidity            0\n",
              "dtype: int64"
            ]
          },
          "metadata": {
            "tags": []
          },
          "execution_count": 11
        }
      ]
    },
    {
      "cell_type": "markdown",
      "metadata": {
        "id": "t3bpegNw0p-O"
      },
      "source": [
        "we'll try to see what is the precsision if the data isn't imputed."
      ]
    },
    {
      "cell_type": "code",
      "metadata": {
        "colab": {
          "base_uri": "https://localhost:8080/"
        },
        "id": "EqsoOk8B001h",
        "outputId": "79709ac6-c49e-493a-bf3b-1b8b05847171"
      },
      "source": [
        "print('dont do anything precision score: ', end=\"\")\n",
        "print(score_dataset(X_train, X_valid, y_train, y_valid))"
      ],
      "execution_count": 12,
      "outputs": [
        {
          "output_type": "stream",
          "text": [
            "dont do anything precision score: 0.48973782106312225\n"
          ],
          "name": "stdout"
        },
        {
          "output_type": "stream",
          "text": [
            "/usr/local/lib/python3.7/dist-packages/sklearn/dummy.py:132: FutureWarning: The default value of strategy will change from stratified to prior in 0.24.\n",
            "  \"stratified to prior in 0.24.\", FutureWarning)\n"
          ],
          "name": "stderr"
        }
      ]
    },
    {
      "cell_type": "markdown",
      "metadata": {
        "id": "tiy-k90GyxlP"
      },
      "source": [
        "we'll try to impute the data."
      ]
    },
    {
      "cell_type": "code",
      "metadata": {
        "id": "DP6j6DX3y3OW"
      },
      "source": [
        "from sklearn.impute import SimpleImputer\n",
        "\n",
        "imputer = SimpleImputer()\n",
        "imputed_X_train = pd.DataFrame(imputer.fit_transform(X_train))\n",
        "imputed_X_valid = pd.DataFrame(imputer.transform(X_valid))\n",
        "\n",
        "imputed_X_train.columns = X_train.columns\n",
        "imputed_X_valid.columns = X_valid.columns"
      ],
      "execution_count": 13,
      "outputs": []
    },
    {
      "cell_type": "code",
      "metadata": {
        "colab": {
          "base_uri": "https://localhost:8080/"
        },
        "id": "Udjpe7Rk1Hym",
        "outputId": "f2744b82-1450-4d34-a22a-be2cead9eae7"
      },
      "source": [
        "print('imputed data precision score: ', end=\"\")\n",
        "print(score_dataset(imputed_X_train, imputed_X_valid, y_train, y_valid))"
      ],
      "execution_count": 14,
      "outputs": [
        {
          "output_type": "stream",
          "text": [
            "imputed data precision score: 0.48973782106312225\n"
          ],
          "name": "stdout"
        },
        {
          "output_type": "stream",
          "text": [
            "/usr/local/lib/python3.7/dist-packages/sklearn/dummy.py:132: FutureWarning: The default value of strategy will change from stratified to prior in 0.24.\n",
            "  \"stratified to prior in 0.24.\", FutureWarning)\n"
          ],
          "name": "stderr"
        }
      ]
    },
    {
      "cell_type": "markdown",
      "metadata": {
        "id": "JXywPPcTw7I1"
      },
      "source": [
        "now we'll try to scale the data"
      ]
    },
    {
      "cell_type": "code",
      "metadata": {
        "id": "pNfQBv75w6K1"
      },
      "source": [
        "from sklearn.preprocessing import StandardScaler\n",
        "\n",
        "ss = StandardScaler()\n",
        "features= imputed_X_train.columns\n",
        "imputed_X_train[features] = ss.fit_transform(imputed_X_train[features])\n",
        "imputed_X_valid[features]=  ss.fit_transform(imputed_X_valid[features])"
      ],
      "execution_count": 15,
      "outputs": []
    },
    {
      "cell_type": "code",
      "metadata": {
        "colab": {
          "base_uri": "https://localhost:8080/"
        },
        "id": "MF49XGBHy-fg",
        "outputId": "6f78cf24-cd9f-4ccd-e541-c63c63c0262f"
      },
      "source": [
        "print('imputed data precision score with scaling: ', end=\"\")\n",
        "print(score_dataset(imputed_X_train, imputed_X_valid, y_train, y_valid))"
      ],
      "execution_count": 16,
      "outputs": [
        {
          "output_type": "stream",
          "text": [
            "imputed data precision score with scaling: 0.48973782106312225\n"
          ],
          "name": "stdout"
        },
        {
          "output_type": "stream",
          "text": [
            "/usr/local/lib/python3.7/dist-packages/sklearn/dummy.py:132: FutureWarning: The default value of strategy will change from stratified to prior in 0.24.\n",
            "  \"stratified to prior in 0.24.\", FutureWarning)\n"
          ],
          "name": "stderr"
        }
      ]
    },
    {
      "cell_type": "markdown",
      "metadata": {
        "id": "jJThfzCA5bOq"
      },
      "source": [
        "ok the conclusion is we are going to use imputed data with standard scaler"
      ]
    },
    {
      "cell_type": "code",
      "metadata": {
        "id": "twRk0K4FPS9b"
      },
      "source": [
        "imputed_X_train.to_csv('X_train.csv')\n",
        "imputed_X_valid.to_csv('X_valid.csv')\n",
        "y_train.to_csv('y_train.csv')\n",
        "y_valid.to_csv('y_valid.csv')"
      ],
      "execution_count": 17,
      "outputs": []
    }
  ]
}